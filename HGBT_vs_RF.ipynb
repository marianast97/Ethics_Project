{
 "cells": [
  {
   "cell_type": "markdown",
   "metadata": {},
   "source": [
    "#### Comparing Random Forests and Histogram Gradient Boosting models"
   ]
  },
  {
   "cell_type": "code",
   "execution_count": 1,
   "metadata": {},
   "outputs": [],
   "source": [
    "import pandas as pd\n",
    "from sklearn.model_selection import train_test_split, GridSearchCV, KFold\n",
    "from sklearn.ensemble import RandomForestClassifier,  HistGradientBoostingClassifier\n",
    "from sklearn.metrics import accuracy_score, confusion_matrix, classification_report\n",
    "import joblib\n",
    "import plotly.colors as colors\n",
    "import plotly.express as px\n",
    "from plotly.subplots import make_subplots\n"
   ]
  },
  {
   "cell_type": "code",
   "execution_count": 2,
   "metadata": {},
   "outputs": [
    {
     "data": {
      "text/html": [
       "<div>\n",
       "<style scoped>\n",
       "    .dataframe tbody tr th:only-of-type {\n",
       "        vertical-align: middle;\n",
       "    }\n",
       "\n",
       "    .dataframe tbody tr th {\n",
       "        vertical-align: top;\n",
       "    }\n",
       "\n",
       "    .dataframe thead th {\n",
       "        text-align: right;\n",
       "    }\n",
       "</style>\n",
       "<table border=\"1\" class=\"dataframe\">\n",
       "  <thead>\n",
       "    <tr style=\"text-align: right;\">\n",
       "      <th></th>\n",
       "      <th>Age</th>\n",
       "      <th>SystolicBP</th>\n",
       "      <th>DiastolicBP</th>\n",
       "      <th>BS</th>\n",
       "      <th>BodyTemp</th>\n",
       "      <th>HeartRate</th>\n",
       "    </tr>\n",
       "  </thead>\n",
       "  <tbody>\n",
       "    <tr>\n",
       "      <th>127</th>\n",
       "      <td>55</td>\n",
       "      <td>140</td>\n",
       "      <td>95</td>\n",
       "      <td>19.0</td>\n",
       "      <td>98.0</td>\n",
       "      <td>77</td>\n",
       "    </tr>\n",
       "    <tr>\n",
       "      <th>491</th>\n",
       "      <td>23</td>\n",
       "      <td>120</td>\n",
       "      <td>90</td>\n",
       "      <td>7.9</td>\n",
       "      <td>98.0</td>\n",
       "      <td>70</td>\n",
       "    </tr>\n",
       "    <tr>\n",
       "      <th>420</th>\n",
       "      <td>60</td>\n",
       "      <td>120</td>\n",
       "      <td>80</td>\n",
       "      <td>6.8</td>\n",
       "      <td>98.0</td>\n",
       "      <td>77</td>\n",
       "    </tr>\n",
       "    <tr>\n",
       "      <th>993</th>\n",
       "      <td>25</td>\n",
       "      <td>120</td>\n",
       "      <td>90</td>\n",
       "      <td>15.0</td>\n",
       "      <td>98.0</td>\n",
       "      <td>80</td>\n",
       "    </tr>\n",
       "    <tr>\n",
       "      <th>995</th>\n",
       "      <td>32</td>\n",
       "      <td>140</td>\n",
       "      <td>90</td>\n",
       "      <td>18.0</td>\n",
       "      <td>98.0</td>\n",
       "      <td>88</td>\n",
       "    </tr>\n",
       "  </tbody>\n",
       "</table>\n",
       "</div>"
      ],
      "text/plain": [
       "     Age  SystolicBP  DiastolicBP    BS  BodyTemp  HeartRate\n",
       "127   55         140           95  19.0      98.0         77\n",
       "491   23         120           90   7.9      98.0         70\n",
       "420   60         120           80   6.8      98.0         77\n",
       "993   25         120           90  15.0      98.0         80\n",
       "995   32         140           90  18.0      98.0         88"
      ]
     },
     "execution_count": 2,
     "metadata": {},
     "output_type": "execute_result"
    }
   ],
   "source": [
    "df = pd.read_csv('./Maternal Health Risk Data Set.csv')\n",
    "X = df.drop('RiskLevel', axis=1)\n",
    "y = df['RiskLevel']\n",
    "\n",
    "# Splitting the data into training and testing sets\n",
    "X_train, X_test, y_train, y_test = train_test_split(X, y, test_size=0.2, random_state=7)\n",
    "\n",
    "X_train.head()"
   ]
  },
  {
   "cell_type": "code",
   "execution_count": 3,
   "metadata": {},
   "outputs": [
    {
     "name": "stdout",
     "output_type": "stream",
     "text": [
      "Fitting 4 folds for each of 54 candidates, totalling 216 fits\n",
      "Fitting 4 folds for each of 25 candidates, totalling 100 fits\n"
     ]
    }
   ],
   "source": [
    "models = {\n",
    "    \"Random Forest\": RandomForestClassifier(),\n",
    "    \"Hist Gradient Boosting\": HistGradientBoostingClassifier(),\n",
    "}\n",
    "param_grids = {\n",
    "    \"Random Forest\": {\n",
    "        'n_estimators': [100, 200, 500], \n",
    "        'max_features': ['sqrt', 'log2'],\n",
    "        'max_depth': [10, 15, 20],\n",
    "        'criterion': ['gini', 'entropy', 'log_loss'],\n",
    "        'n_jobs': [2]\n",
    "    },\n",
    "    \"Hist Gradient Boosting\": {\n",
    "        'max_iter': [100, 200, 500, 1000, 3000],\n",
    "        'learning_rate': [0.01, 0.1, 0.3, 0.5, 0.7]\n",
    "        },\n",
    "}\n",
    "cv = KFold(n_splits=4, shuffle=True, random_state=7)\n",
    "\n",
    "results = []\n",
    "for name, model in models.items():\n",
    "    grid_search = GridSearchCV(\n",
    "        estimator=model,\n",
    "        param_grid=param_grids[name],\n",
    "        return_train_score=True,\n",
    "        cv=cv,\n",
    "        verbose=1,\n",
    "        n_jobs=4\n",
    "    ).fit(X, y)\n",
    "    result = {\"model\": name, \"cv_results\": pd.DataFrame(grid_search.cv_results_), \"best_params\": grid_search.best_params_, \"best_score\": grid_search.best_score_}\n",
    "    results.append(result)"
   ]
  },
  {
   "cell_type": "code",
   "execution_count": 4,
   "metadata": {},
   "outputs": [
    {
     "data": {
      "application/vnd.plotly.v1+json": {
       "config": {
        "plotlyServerURL": "https://plot.ly"
       },
       "data": [
        {
         "customdata": [
          [
           100
          ],
          [
           200
          ],
          [
           500
          ],
          [
           100
          ],
          [
           200
          ],
          [
           500
          ],
          [
           100
          ],
          [
           200
          ],
          [
           500
          ],
          [
           100
          ],
          [
           200
          ],
          [
           500
          ],
          [
           100
          ],
          [
           200
          ],
          [
           500
          ],
          [
           100
          ],
          [
           200
          ],
          [
           500
          ],
          [
           100
          ],
          [
           200
          ],
          [
           500
          ],
          [
           100
          ],
          [
           200
          ],
          [
           500
          ],
          [
           100
          ],
          [
           200
          ],
          [
           500
          ],
          [
           100
          ],
          [
           200
          ],
          [
           500
          ],
          [
           100
          ],
          [
           200
          ],
          [
           500
          ],
          [
           100
          ],
          [
           200
          ],
          [
           500
          ],
          [
           100
          ],
          [
           200
          ],
          [
           500
          ],
          [
           100
          ],
          [
           200
          ],
          [
           500
          ],
          [
           100
          ],
          [
           200
          ],
          [
           500
          ],
          [
           100
          ],
          [
           200
          ],
          [
           500
          ],
          [
           100
          ],
          [
           200
          ],
          [
           500
          ],
          [
           100
          ],
          [
           200
          ],
          [
           500
          ]
         ],
         "error_x": {
          "array": [
           0.007,
           0.014,
           0.02,
           0.001,
           0.001,
           0.014,
           0.001,
           0.002,
           0.016,
           0.001,
           0.007,
           0.02,
           0.006,
           0.001,
           0.021,
           0.008,
           0.012,
           0.012,
           0.008,
           0.011,
           0.015,
           0.008,
           0.007,
           0.015,
           0.002,
           0.015,
           0.019,
           0.012,
           0.008,
           0.012,
           0.009,
           0.012,
           0.015,
           0.009,
           0.008,
           0.015,
           0.011,
           0.007,
           0.055,
           0.02,
           0.019,
           0.013,
           0.023,
           0.02,
           0.019,
           0.008,
           0,
           0.01,
           0.013,
           0.008,
           0.02,
           0.004,
           0.006,
           0.01
          ]
         },
         "error_y": {
          "array": [
           0.023,
           0.032,
           0.029,
           0.023,
           0.028,
           0.027,
           0.02,
           0.024,
           0.023,
           0.02,
           0.02,
           0.019,
           0.025,
           0.025,
           0.027,
           0.02,
           0.023,
           0.023,
           0.022,
           0.029,
           0.028,
           0.023,
           0.032,
           0.021,
           0.022,
           0.023,
           0.019,
           0.013,
           0.024,
           0.021,
           0.022,
           0.018,
           0.023,
           0.017,
           0.02,
           0.024,
           0.019,
           0.026,
           0.026,
           0.019,
           0.031,
           0.032,
           0.018,
           0.021,
           0.02,
           0.015,
           0.018,
           0.024,
           0.022,
           0.02,
           0.024,
           0.02,
           0.022,
           0.023
          ]
         },
         "hovertemplate": "model=Random Forest<br>mean_fit_time=%{x}<br>mean_test_score=%{y}<br>n_estimators=%{customdata[0]}<extra></extra>",
         "legendgroup": "Random Forest",
         "marker": {
          "color": "#636EFA",
          "symbol": "circle"
         },
         "mode": "markers",
         "name": "Random Forest",
         "orientation": "v",
         "showlegend": true,
         "type": "scatter",
         "x": [
          0.144,
          0.268,
          0.642,
          0.147,
          0.268,
          0.643,
          0.149,
          0.266,
          0.663,
          0.133,
          0.267,
          0.631,
          0.139,
          0.262,
          0.616,
          0.136,
          0.383,
          1.053,
          0.221,
          0.445,
          1.036,
          0.208,
          0.41,
          1.003,
          0.214,
          0.442,
          1.133,
          0.242,
          0.475,
          1.075,
          0.235,
          0.466,
          1.095,
          0.222,
          0.421,
          1.027,
          0.201,
          0.405,
          1.013,
          0.218,
          0.448,
          1.022,
          0.212,
          0.434,
          1.026,
          0.222,
          0.433,
          1.056,
          0.216,
          0.428,
          1.035,
          0.198,
          0.391,
          0.989
         ],
         "xaxis": "x",
         "y": [
          0.82,
          0.819,
          0.821,
          0.817,
          0.823,
          0.822,
          0.837,
          0.832,
          0.838,
          0.841,
          0.84,
          0.834,
          0.829,
          0.832,
          0.839,
          0.837,
          0.84,
          0.836,
          0.818,
          0.822,
          0.822,
          0.824,
          0.823,
          0.821,
          0.836,
          0.834,
          0.842,
          0.836,
          0.834,
          0.838,
          0.833,
          0.839,
          0.836,
          0.837,
          0.839,
          0.835,
          0.819,
          0.826,
          0.823,
          0.812,
          0.826,
          0.819,
          0.835,
          0.834,
          0.836,
          0.833,
          0.835,
          0.835,
          0.835,
          0.838,
          0.833,
          0.839,
          0.836,
          0.832
         ],
         "yaxis": "y"
        },
        {
         "hovertemplate": "mean_fit_time=%{x}<br>mean_test_score=%{y}<extra></extra>",
         "legendgroup": "",
         "line": {
          "color": "#636EFA",
          "dash": "solid"
         },
         "marker": {
          "symbol": "circle"
         },
         "mode": "lines",
         "name": "",
         "orientation": "v",
         "showlegend": false,
         "type": "scatter",
         "x": [
          0.144,
          0.268,
          0.642,
          0.147,
          0.268,
          0.643,
          0.149,
          0.266,
          0.663,
          0.133,
          0.267,
          0.631,
          0.139,
          0.262,
          0.616,
          0.136,
          0.383,
          1.053,
          0.221,
          0.445,
          1.036,
          0.208,
          0.41,
          1.003,
          0.214,
          0.442,
          1.133,
          0.242,
          0.475,
          1.075,
          0.235,
          0.466,
          1.095,
          0.222,
          0.421,
          1.027,
          0.201,
          0.405,
          1.013,
          0.218,
          0.448,
          1.022,
          0.212,
          0.434,
          1.026,
          0.222,
          0.433,
          1.056,
          0.216,
          0.428,
          1.035,
          0.198,
          0.391,
          0.989
         ],
         "xaxis": "x",
         "y": [
          0.82,
          0.819,
          0.821,
          0.817,
          0.823,
          0.822,
          0.837,
          0.832,
          0.838,
          0.841,
          0.84,
          0.834,
          0.829,
          0.832,
          0.839,
          0.837,
          0.84,
          0.836,
          0.818,
          0.822,
          0.822,
          0.824,
          0.823,
          0.821,
          0.836,
          0.834,
          0.842,
          0.836,
          0.834,
          0.838,
          0.833,
          0.839,
          0.836,
          0.837,
          0.839,
          0.835,
          0.819,
          0.826,
          0.823,
          0.812,
          0.826,
          0.819,
          0.835,
          0.834,
          0.836,
          0.833,
          0.835,
          0.835,
          0.835,
          0.838,
          0.833,
          0.839,
          0.836,
          0.832
         ],
         "yaxis": "y"
        },
        {
         "customdata": [
          [
           100
          ],
          [
           200
          ],
          [
           500
          ],
          [
           100
          ],
          [
           200
          ],
          [
           500
          ],
          [
           100
          ],
          [
           200
          ],
          [
           500
          ],
          [
           100
          ],
          [
           200
          ],
          [
           500
          ],
          [
           100
          ],
          [
           200
          ],
          [
           500
          ],
          [
           100
          ],
          [
           200
          ],
          [
           500
          ],
          [
           100
          ],
          [
           200
          ],
          [
           500
          ],
          [
           100
          ],
          [
           200
          ],
          [
           500
          ],
          [
           100
          ],
          [
           200
          ],
          [
           500
          ],
          [
           100
          ],
          [
           200
          ],
          [
           500
          ],
          [
           100
          ],
          [
           200
          ],
          [
           500
          ],
          [
           100
          ],
          [
           200
          ],
          [
           500
          ],
          [
           100
          ],
          [
           200
          ],
          [
           500
          ],
          [
           100
          ],
          [
           200
          ],
          [
           500
          ],
          [
           100
          ],
          [
           200
          ],
          [
           500
          ],
          [
           100
          ],
          [
           200
          ],
          [
           500
          ],
          [
           100
          ],
          [
           200
          ],
          [
           500
          ],
          [
           100
          ],
          [
           200
          ],
          [
           500
          ]
         ],
         "error_x": {
          "array": [
           0.008,
           0.009,
           0.001,
           0.007,
           0.006,
           0,
           0,
           0.006,
           0,
           0.007,
           0.001,
           0,
           0,
           0.009,
           0.001,
           0,
           0.009,
           0.001,
           0,
           0.007,
           0.015,
           0,
           0.001,
           0.009,
           0.001,
           0.007,
           0.007,
           0.007,
           0,
           0.005,
           0,
           0,
           0,
           0.007,
           0,
           0.013,
           0.006,
           0.003,
           0.014,
           0.006,
           0.007,
           0.006,
           0.003,
           0.005,
           0.008,
           0,
           0.009,
           0.007,
           0.007,
           0.007,
           0.008,
           0.002,
           0.004,
           0
          ]
         },
         "error_y": {
          "array": [
           0.023,
           0.032,
           0.029,
           0.023,
           0.028,
           0.027,
           0.02,
           0.024,
           0.023,
           0.02,
           0.02,
           0.019,
           0.025,
           0.025,
           0.027,
           0.02,
           0.023,
           0.023,
           0.022,
           0.029,
           0.028,
           0.023,
           0.032,
           0.021,
           0.022,
           0.023,
           0.019,
           0.013,
           0.024,
           0.021,
           0.022,
           0.018,
           0.023,
           0.017,
           0.02,
           0.024,
           0.019,
           0.026,
           0.026,
           0.019,
           0.031,
           0.032,
           0.018,
           0.021,
           0.02,
           0.015,
           0.018,
           0.024,
           0.022,
           0.02,
           0.024,
           0.02,
           0.022,
           0.023
          ]
         },
         "hovertemplate": "mean_score_time=%{x}<br>mean_test_score=%{y}<br>n_estimators=%{customdata[0]}<extra></extra>",
         "legendgroup": "",
         "marker": {
          "color": "#636EFA",
          "symbol": "circle"
         },
         "mode": "markers",
         "name": "",
         "orientation": "v",
         "showlegend": false,
         "type": "scatter",
         "x": [
          0.03,
          0.042,
          0.085,
          0.029,
          0.046,
          0.085,
          0.034,
          0.046,
          0.084,
          0.031,
          0.035,
          0.084,
          0.034,
          0.042,
          0.084,
          0.034,
          0.059,
          0.134,
          0.035,
          0.055,
          0.125,
          0.033,
          0.051,
          0.126,
          0.035,
          0.063,
          0.141,
          0.039,
          0.067,
          0.126,
          0.033,
          0.067,
          0.135,
          0.029,
          0.069,
          0.125,
          0.038,
          0.052,
          0.139,
          0.039,
          0.056,
          0.131,
          0.033,
          0.062,
          0.125,
          0.033,
          0.059,
          0.139,
          0.038,
          0.06,
          0.108,
          0.031,
          0.049,
          0.117
         ],
         "xaxis": "x2",
         "y": [
          0.82,
          0.819,
          0.821,
          0.817,
          0.823,
          0.822,
          0.837,
          0.832,
          0.838,
          0.841,
          0.84,
          0.834,
          0.829,
          0.832,
          0.839,
          0.837,
          0.84,
          0.836,
          0.818,
          0.822,
          0.822,
          0.824,
          0.823,
          0.821,
          0.836,
          0.834,
          0.842,
          0.836,
          0.834,
          0.838,
          0.833,
          0.839,
          0.836,
          0.837,
          0.839,
          0.835,
          0.819,
          0.826,
          0.823,
          0.812,
          0.826,
          0.819,
          0.835,
          0.834,
          0.836,
          0.833,
          0.835,
          0.835,
          0.835,
          0.838,
          0.833,
          0.839,
          0.836,
          0.832
         ],
         "yaxis": "y2"
        },
        {
         "hovertemplate": "mean_score_time=%{x}<br>mean_test_score=%{y}<extra></extra>",
         "legendgroup": "",
         "line": {
          "color": "#636EFA",
          "dash": "solid"
         },
         "marker": {
          "symbol": "circle"
         },
         "mode": "lines",
         "name": "",
         "orientation": "v",
         "showlegend": false,
         "type": "scatter",
         "x": [
          0.03,
          0.042,
          0.085,
          0.029,
          0.046,
          0.085,
          0.034,
          0.046,
          0.084,
          0.031,
          0.035,
          0.084,
          0.034,
          0.042,
          0.084,
          0.034,
          0.059,
          0.134,
          0.035,
          0.055,
          0.125,
          0.033,
          0.051,
          0.126,
          0.035,
          0.063,
          0.141,
          0.039,
          0.067,
          0.126,
          0.033,
          0.067,
          0.135,
          0.029,
          0.069,
          0.125,
          0.038,
          0.052,
          0.139,
          0.039,
          0.056,
          0.131,
          0.033,
          0.062,
          0.125,
          0.033,
          0.059,
          0.139,
          0.038,
          0.06,
          0.108,
          0.031,
          0.049,
          0.117
         ],
         "xaxis": "x2",
         "y": [
          0.82,
          0.819,
          0.821,
          0.817,
          0.823,
          0.822,
          0.837,
          0.832,
          0.838,
          0.841,
          0.84,
          0.834,
          0.829,
          0.832,
          0.839,
          0.837,
          0.84,
          0.836,
          0.818,
          0.822,
          0.822,
          0.824,
          0.823,
          0.821,
          0.836,
          0.834,
          0.842,
          0.836,
          0.834,
          0.838,
          0.833,
          0.839,
          0.836,
          0.837,
          0.839,
          0.835,
          0.819,
          0.826,
          0.823,
          0.812,
          0.826,
          0.819,
          0.835,
          0.834,
          0.836,
          0.833,
          0.835,
          0.835,
          0.835,
          0.838,
          0.833,
          0.839,
          0.836,
          0.832
         ],
         "yaxis": "y2"
        },
        {
         "customdata": [
          [
           100
          ],
          [
           200
          ],
          [
           500
          ],
          [
           1000
          ],
          [
           3000
          ],
          [
           100
          ],
          [
           200
          ],
          [
           500
          ],
          [
           1000
          ],
          [
           3000
          ],
          [
           100
          ],
          [
           200
          ],
          [
           500
          ],
          [
           1000
          ],
          [
           3000
          ],
          [
           100
          ],
          [
           200
          ],
          [
           500
          ],
          [
           1000
          ],
          [
           3000
          ],
          [
           100
          ],
          [
           200
          ],
          [
           500
          ],
          [
           1000
          ],
          [
           3000
          ]
         ],
         "error_x": {
          "array": [
           0.544,
           1.066,
           2.857,
           5.219,
           3.122,
           0.025,
           0.038,
           0.128,
           0.33,
           0.38,
           0.041,
           0.027,
           0.1,
           0.097,
           0.671,
           0.066,
           0.061,
           0.059,
           0.191,
           0.522,
           0.036,
           0.029,
           0.052,
           0.269,
           0.244
          ]
         },
         "error_y": {
          "array": [
           0.009,
           0.022,
           0.018,
           0.023,
           0.019,
           0.025,
           0.016,
           0.017,
           0.012,
           0.013,
           0.01,
           0.014,
           0.018,
           0.016,
           0.021,
           0.018,
           0.018,
           0.013,
           0.017,
           0.015,
           0.012,
           0.021,
           0.014,
           0.017,
           0.012
          ]
         },
         "hovertemplate": "model=Hist Gradient Boosting<br>mean_fit_time=%{x}<br>mean_test_score=%{y}<br>max_iter=%{customdata[0]}<extra></extra>",
         "legendgroup": "Hist Gradient Boosting",
         "marker": {
          "color": "#EF553B",
          "symbol": "circle"
         },
         "mode": "markers",
         "name": "Hist Gradient Boosting",
         "orientation": "v",
         "showlegend": true,
         "type": "scatter",
         "x": [
          1.999,
          4.109,
          10.326,
          20.595,
          42.324,
          1.046,
          1.847,
          4.234,
          7.542,
          20.52,
          0.828,
          1.537,
          3.498,
          6.832,
          18.471,
          0.861,
          1.728,
          3.579,
          7.275,
          19.283,
          0.806,
          1.42,
          3.148,
          6.063,
          19.571
         ],
         "xaxis": "x",
         "y": [
          0.738,
          0.766,
          0.82,
          0.83,
          0.836,
          0.832,
          0.835,
          0.833,
          0.834,
          0.833,
          0.836,
          0.836,
          0.835,
          0.838,
          0.829,
          0.831,
          0.833,
          0.838,
          0.829,
          0.828,
          0.831,
          0.828,
          0.835,
          0.832,
          0.828
         ],
         "yaxis": "y"
        },
        {
         "hovertemplate": "mean_fit_time=%{x}<br>mean_test_score=%{y}<extra></extra>",
         "legendgroup": "",
         "line": {
          "color": "#EF553B",
          "dash": "solid"
         },
         "marker": {
          "symbol": "circle"
         },
         "mode": "lines",
         "name": "",
         "orientation": "v",
         "showlegend": false,
         "type": "scatter",
         "x": [
          1.999,
          4.109,
          10.326,
          20.595,
          42.324,
          1.046,
          1.847,
          4.234,
          7.542,
          20.52,
          0.828,
          1.537,
          3.498,
          6.832,
          18.471,
          0.861,
          1.728,
          3.579,
          7.275,
          19.283,
          0.806,
          1.42,
          3.148,
          6.063,
          19.571
         ],
         "xaxis": "x",
         "y": [
          0.738,
          0.766,
          0.82,
          0.83,
          0.836,
          0.832,
          0.835,
          0.833,
          0.834,
          0.833,
          0.836,
          0.836,
          0.835,
          0.838,
          0.829,
          0.831,
          0.833,
          0.838,
          0.829,
          0.828,
          0.831,
          0.828,
          0.835,
          0.832,
          0.828
         ],
         "yaxis": "y"
        },
        {
         "customdata": [
          [
           100
          ],
          [
           200
          ],
          [
           500
          ],
          [
           1000
          ],
          [
           3000
          ],
          [
           100
          ],
          [
           200
          ],
          [
           500
          ],
          [
           1000
          ],
          [
           3000
          ],
          [
           100
          ],
          [
           200
          ],
          [
           500
          ],
          [
           1000
          ],
          [
           3000
          ],
          [
           100
          ],
          [
           200
          ],
          [
           500
          ],
          [
           1000
          ],
          [
           3000
          ],
          [
           100
          ],
          [
           200
          ],
          [
           500
          ],
          [
           1000
          ],
          [
           3000
          ]
         ],
         "error_x": {
          "array": [
           0.004,
           0.009,
           0.036,
           0.047,
           0.007,
           0.001,
           0.005,
           0.011,
           0.003,
           0.02,
           0.004,
           0.004,
           0.015,
           0.007,
           0.027,
           0.002,
           0.003,
           0.009,
           0.007,
           0.013,
           0.002,
           0.003,
           0.003,
           0.016,
           0.041
          ]
         },
         "error_y": {
          "array": [
           0.009,
           0.022,
           0.018,
           0.023,
           0.019,
           0.025,
           0.016,
           0.017,
           0.012,
           0.013,
           0.01,
           0.014,
           0.018,
           0.016,
           0.021,
           0.018,
           0.018,
           0.013,
           0.017,
           0.015,
           0.012,
           0.021,
           0.014,
           0.017,
           0.012
          ]
         },
         "hovertemplate": "mean_score_time=%{x}<br>mean_test_score=%{y}<br>max_iter=%{customdata[0]}<extra></extra>",
         "legendgroup": "",
         "marker": {
          "color": "#EF553B",
          "symbol": "circle"
         },
         "mode": "markers",
         "name": "",
         "orientation": "v",
         "showlegend": false,
         "type": "scatter",
         "x": [
          0.025,
          0.047,
          0.118,
          0.221,
          0.328,
          0.016,
          0.028,
          0.06,
          0.103,
          0.308,
          0.014,
          0.024,
          0.057,
          0.101,
          0.351,
          0.011,
          0.025,
          0.058,
          0.1,
          0.314,
          0.011,
          0.023,
          0.052,
          0.12,
          0.224
         ],
         "xaxis": "x2",
         "y": [
          0.738,
          0.766,
          0.82,
          0.83,
          0.836,
          0.832,
          0.835,
          0.833,
          0.834,
          0.833,
          0.836,
          0.836,
          0.835,
          0.838,
          0.829,
          0.831,
          0.833,
          0.838,
          0.829,
          0.828,
          0.831,
          0.828,
          0.835,
          0.832,
          0.828
         ],
         "yaxis": "y2"
        },
        {
         "hovertemplate": "mean_score_time=%{x}<br>mean_test_score=%{y}<extra></extra>",
         "legendgroup": "",
         "line": {
          "color": "#EF553B",
          "dash": "solid"
         },
         "marker": {
          "symbol": "circle"
         },
         "mode": "lines",
         "name": "",
         "orientation": "v",
         "showlegend": false,
         "type": "scatter",
         "x": [
          0.025,
          0.047,
          0.118,
          0.221,
          0.328,
          0.016,
          0.028,
          0.06,
          0.103,
          0.308,
          0.014,
          0.024,
          0.057,
          0.101,
          0.351,
          0.011,
          0.025,
          0.058,
          0.1,
          0.314,
          0.011,
          0.023,
          0.052,
          0.12,
          0.224
         ],
         "xaxis": "x2",
         "y": [
          0.738,
          0.766,
          0.82,
          0.83,
          0.836,
          0.832,
          0.835,
          0.833,
          0.834,
          0.833,
          0.836,
          0.836,
          0.835,
          0.838,
          0.829,
          0.831,
          0.833,
          0.838,
          0.829,
          0.828,
          0.831,
          0.828,
          0.835,
          0.832,
          0.828
         ],
         "yaxis": "y2"
        }
       ],
       "layout": {
        "annotations": [
         {
          "font": {
           "size": 16
          },
          "showarrow": false,
          "text": "Train time vs score",
          "x": 0.225,
          "xanchor": "center",
          "xref": "paper",
          "y": 1,
          "yanchor": "bottom",
          "yref": "paper"
         },
         {
          "font": {
           "size": 16
          },
          "showarrow": false,
          "text": "Predict time vs score",
          "x": 0.775,
          "xanchor": "center",
          "xref": "paper",
          "y": 1,
          "yanchor": "bottom",
          "yref": "paper"
         }
        ],
        "legend": {
         "borderwidth": 1,
         "traceorder": "normal",
         "x": 0.72,
         "y": 0.05
        },
        "template": {
         "data": {
          "bar": [
           {
            "error_x": {
             "color": "#2a3f5f"
            },
            "error_y": {
             "color": "#2a3f5f"
            },
            "marker": {
             "line": {
              "color": "#E5ECF6",
              "width": 0.5
             },
             "pattern": {
              "fillmode": "overlay",
              "size": 10,
              "solidity": 0.2
             }
            },
            "type": "bar"
           }
          ],
          "barpolar": [
           {
            "marker": {
             "line": {
              "color": "#E5ECF6",
              "width": 0.5
             },
             "pattern": {
              "fillmode": "overlay",
              "size": 10,
              "solidity": 0.2
             }
            },
            "type": "barpolar"
           }
          ],
          "carpet": [
           {
            "aaxis": {
             "endlinecolor": "#2a3f5f",
             "gridcolor": "white",
             "linecolor": "white",
             "minorgridcolor": "white",
             "startlinecolor": "#2a3f5f"
            },
            "baxis": {
             "endlinecolor": "#2a3f5f",
             "gridcolor": "white",
             "linecolor": "white",
             "minorgridcolor": "white",
             "startlinecolor": "#2a3f5f"
            },
            "type": "carpet"
           }
          ],
          "choropleth": [
           {
            "colorbar": {
             "outlinewidth": 0,
             "ticks": ""
            },
            "type": "choropleth"
           }
          ],
          "contour": [
           {
            "colorbar": {
             "outlinewidth": 0,
             "ticks": ""
            },
            "colorscale": [
             [
              0,
              "#0d0887"
             ],
             [
              0.1111111111111111,
              "#46039f"
             ],
             [
              0.2222222222222222,
              "#7201a8"
             ],
             [
              0.3333333333333333,
              "#9c179e"
             ],
             [
              0.4444444444444444,
              "#bd3786"
             ],
             [
              0.5555555555555556,
              "#d8576b"
             ],
             [
              0.6666666666666666,
              "#ed7953"
             ],
             [
              0.7777777777777778,
              "#fb9f3a"
             ],
             [
              0.8888888888888888,
              "#fdca26"
             ],
             [
              1,
              "#f0f921"
             ]
            ],
            "type": "contour"
           }
          ],
          "contourcarpet": [
           {
            "colorbar": {
             "outlinewidth": 0,
             "ticks": ""
            },
            "type": "contourcarpet"
           }
          ],
          "heatmap": [
           {
            "colorbar": {
             "outlinewidth": 0,
             "ticks": ""
            },
            "colorscale": [
             [
              0,
              "#0d0887"
             ],
             [
              0.1111111111111111,
              "#46039f"
             ],
             [
              0.2222222222222222,
              "#7201a8"
             ],
             [
              0.3333333333333333,
              "#9c179e"
             ],
             [
              0.4444444444444444,
              "#bd3786"
             ],
             [
              0.5555555555555556,
              "#d8576b"
             ],
             [
              0.6666666666666666,
              "#ed7953"
             ],
             [
              0.7777777777777778,
              "#fb9f3a"
             ],
             [
              0.8888888888888888,
              "#fdca26"
             ],
             [
              1,
              "#f0f921"
             ]
            ],
            "type": "heatmap"
           }
          ],
          "heatmapgl": [
           {
            "colorbar": {
             "outlinewidth": 0,
             "ticks": ""
            },
            "colorscale": [
             [
              0,
              "#0d0887"
             ],
             [
              0.1111111111111111,
              "#46039f"
             ],
             [
              0.2222222222222222,
              "#7201a8"
             ],
             [
              0.3333333333333333,
              "#9c179e"
             ],
             [
              0.4444444444444444,
              "#bd3786"
             ],
             [
              0.5555555555555556,
              "#d8576b"
             ],
             [
              0.6666666666666666,
              "#ed7953"
             ],
             [
              0.7777777777777778,
              "#fb9f3a"
             ],
             [
              0.8888888888888888,
              "#fdca26"
             ],
             [
              1,
              "#f0f921"
             ]
            ],
            "type": "heatmapgl"
           }
          ],
          "histogram": [
           {
            "marker": {
             "pattern": {
              "fillmode": "overlay",
              "size": 10,
              "solidity": 0.2
             }
            },
            "type": "histogram"
           }
          ],
          "histogram2d": [
           {
            "colorbar": {
             "outlinewidth": 0,
             "ticks": ""
            },
            "colorscale": [
             [
              0,
              "#0d0887"
             ],
             [
              0.1111111111111111,
              "#46039f"
             ],
             [
              0.2222222222222222,
              "#7201a8"
             ],
             [
              0.3333333333333333,
              "#9c179e"
             ],
             [
              0.4444444444444444,
              "#bd3786"
             ],
             [
              0.5555555555555556,
              "#d8576b"
             ],
             [
              0.6666666666666666,
              "#ed7953"
             ],
             [
              0.7777777777777778,
              "#fb9f3a"
             ],
             [
              0.8888888888888888,
              "#fdca26"
             ],
             [
              1,
              "#f0f921"
             ]
            ],
            "type": "histogram2d"
           }
          ],
          "histogram2dcontour": [
           {
            "colorbar": {
             "outlinewidth": 0,
             "ticks": ""
            },
            "colorscale": [
             [
              0,
              "#0d0887"
             ],
             [
              0.1111111111111111,
              "#46039f"
             ],
             [
              0.2222222222222222,
              "#7201a8"
             ],
             [
              0.3333333333333333,
              "#9c179e"
             ],
             [
              0.4444444444444444,
              "#bd3786"
             ],
             [
              0.5555555555555556,
              "#d8576b"
             ],
             [
              0.6666666666666666,
              "#ed7953"
             ],
             [
              0.7777777777777778,
              "#fb9f3a"
             ],
             [
              0.8888888888888888,
              "#fdca26"
             ],
             [
              1,
              "#f0f921"
             ]
            ],
            "type": "histogram2dcontour"
           }
          ],
          "mesh3d": [
           {
            "colorbar": {
             "outlinewidth": 0,
             "ticks": ""
            },
            "type": "mesh3d"
           }
          ],
          "parcoords": [
           {
            "line": {
             "colorbar": {
              "outlinewidth": 0,
              "ticks": ""
             }
            },
            "type": "parcoords"
           }
          ],
          "pie": [
           {
            "automargin": true,
            "type": "pie"
           }
          ],
          "scatter": [
           {
            "fillpattern": {
             "fillmode": "overlay",
             "size": 10,
             "solidity": 0.2
            },
            "type": "scatter"
           }
          ],
          "scatter3d": [
           {
            "line": {
             "colorbar": {
              "outlinewidth": 0,
              "ticks": ""
             }
            },
            "marker": {
             "colorbar": {
              "outlinewidth": 0,
              "ticks": ""
             }
            },
            "type": "scatter3d"
           }
          ],
          "scattercarpet": [
           {
            "marker": {
             "colorbar": {
              "outlinewidth": 0,
              "ticks": ""
             }
            },
            "type": "scattercarpet"
           }
          ],
          "scattergeo": [
           {
            "marker": {
             "colorbar": {
              "outlinewidth": 0,
              "ticks": ""
             }
            },
            "type": "scattergeo"
           }
          ],
          "scattergl": [
           {
            "marker": {
             "colorbar": {
              "outlinewidth": 0,
              "ticks": ""
             }
            },
            "type": "scattergl"
           }
          ],
          "scattermapbox": [
           {
            "marker": {
             "colorbar": {
              "outlinewidth": 0,
              "ticks": ""
             }
            },
            "type": "scattermapbox"
           }
          ],
          "scatterpolar": [
           {
            "marker": {
             "colorbar": {
              "outlinewidth": 0,
              "ticks": ""
             }
            },
            "type": "scatterpolar"
           }
          ],
          "scatterpolargl": [
           {
            "marker": {
             "colorbar": {
              "outlinewidth": 0,
              "ticks": ""
             }
            },
            "type": "scatterpolargl"
           }
          ],
          "scatterternary": [
           {
            "marker": {
             "colorbar": {
              "outlinewidth": 0,
              "ticks": ""
             }
            },
            "type": "scatterternary"
           }
          ],
          "surface": [
           {
            "colorbar": {
             "outlinewidth": 0,
             "ticks": ""
            },
            "colorscale": [
             [
              0,
              "#0d0887"
             ],
             [
              0.1111111111111111,
              "#46039f"
             ],
             [
              0.2222222222222222,
              "#7201a8"
             ],
             [
              0.3333333333333333,
              "#9c179e"
             ],
             [
              0.4444444444444444,
              "#bd3786"
             ],
             [
              0.5555555555555556,
              "#d8576b"
             ],
             [
              0.6666666666666666,
              "#ed7953"
             ],
             [
              0.7777777777777778,
              "#fb9f3a"
             ],
             [
              0.8888888888888888,
              "#fdca26"
             ],
             [
              1,
              "#f0f921"
             ]
            ],
            "type": "surface"
           }
          ],
          "table": [
           {
            "cells": {
             "fill": {
              "color": "#EBF0F8"
             },
             "line": {
              "color": "white"
             }
            },
            "header": {
             "fill": {
              "color": "#C8D4E3"
             },
             "line": {
              "color": "white"
             }
            },
            "type": "table"
           }
          ]
         },
         "layout": {
          "annotationdefaults": {
           "arrowcolor": "#2a3f5f",
           "arrowhead": 0,
           "arrowwidth": 1
          },
          "autotypenumbers": "strict",
          "coloraxis": {
           "colorbar": {
            "outlinewidth": 0,
            "ticks": ""
           }
          },
          "colorscale": {
           "diverging": [
            [
             0,
             "#8e0152"
            ],
            [
             0.1,
             "#c51b7d"
            ],
            [
             0.2,
             "#de77ae"
            ],
            [
             0.3,
             "#f1b6da"
            ],
            [
             0.4,
             "#fde0ef"
            ],
            [
             0.5,
             "#f7f7f7"
            ],
            [
             0.6,
             "#e6f5d0"
            ],
            [
             0.7,
             "#b8e186"
            ],
            [
             0.8,
             "#7fbc41"
            ],
            [
             0.9,
             "#4d9221"
            ],
            [
             1,
             "#276419"
            ]
           ],
           "sequential": [
            [
             0,
             "#0d0887"
            ],
            [
             0.1111111111111111,
             "#46039f"
            ],
            [
             0.2222222222222222,
             "#7201a8"
            ],
            [
             0.3333333333333333,
             "#9c179e"
            ],
            [
             0.4444444444444444,
             "#bd3786"
            ],
            [
             0.5555555555555556,
             "#d8576b"
            ],
            [
             0.6666666666666666,
             "#ed7953"
            ],
            [
             0.7777777777777778,
             "#fb9f3a"
            ],
            [
             0.8888888888888888,
             "#fdca26"
            ],
            [
             1,
             "#f0f921"
            ]
           ],
           "sequentialminus": [
            [
             0,
             "#0d0887"
            ],
            [
             0.1111111111111111,
             "#46039f"
            ],
            [
             0.2222222222222222,
             "#7201a8"
            ],
            [
             0.3333333333333333,
             "#9c179e"
            ],
            [
             0.4444444444444444,
             "#bd3786"
            ],
            [
             0.5555555555555556,
             "#d8576b"
            ],
            [
             0.6666666666666666,
             "#ed7953"
            ],
            [
             0.7777777777777778,
             "#fb9f3a"
            ],
            [
             0.8888888888888888,
             "#fdca26"
            ],
            [
             1,
             "#f0f921"
            ]
           ]
          },
          "colorway": [
           "#636efa",
           "#EF553B",
           "#00cc96",
           "#ab63fa",
           "#FFA15A",
           "#19d3f3",
           "#FF6692",
           "#B6E880",
           "#FF97FF",
           "#FECB52"
          ],
          "font": {
           "color": "#2a3f5f"
          },
          "geo": {
           "bgcolor": "white",
           "lakecolor": "white",
           "landcolor": "#E5ECF6",
           "showlakes": true,
           "showland": true,
           "subunitcolor": "white"
          },
          "hoverlabel": {
           "align": "left"
          },
          "hovermode": "closest",
          "mapbox": {
           "style": "light"
          },
          "paper_bgcolor": "white",
          "plot_bgcolor": "#E5ECF6",
          "polar": {
           "angularaxis": {
            "gridcolor": "white",
            "linecolor": "white",
            "ticks": ""
           },
           "bgcolor": "#E5ECF6",
           "radialaxis": {
            "gridcolor": "white",
            "linecolor": "white",
            "ticks": ""
           }
          },
          "scene": {
           "xaxis": {
            "backgroundcolor": "#E5ECF6",
            "gridcolor": "white",
            "gridwidth": 2,
            "linecolor": "white",
            "showbackground": true,
            "ticks": "",
            "zerolinecolor": "white"
           },
           "yaxis": {
            "backgroundcolor": "#E5ECF6",
            "gridcolor": "white",
            "gridwidth": 2,
            "linecolor": "white",
            "showbackground": true,
            "ticks": "",
            "zerolinecolor": "white"
           },
           "zaxis": {
            "backgroundcolor": "#E5ECF6",
            "gridcolor": "white",
            "gridwidth": 2,
            "linecolor": "white",
            "showbackground": true,
            "ticks": "",
            "zerolinecolor": "white"
           }
          },
          "shapedefaults": {
           "line": {
            "color": "#2a3f5f"
           }
          },
          "ternary": {
           "aaxis": {
            "gridcolor": "white",
            "linecolor": "white",
            "ticks": ""
           },
           "baxis": {
            "gridcolor": "white",
            "linecolor": "white",
            "ticks": ""
           },
           "bgcolor": "#E5ECF6",
           "caxis": {
            "gridcolor": "white",
            "linecolor": "white",
            "ticks": ""
           }
          },
          "title": {
           "x": 0.05
          },
          "xaxis": {
           "automargin": true,
           "gridcolor": "white",
           "linecolor": "white",
           "ticks": "",
           "title": {
            "standoff": 15
           },
           "zerolinecolor": "white",
           "zerolinewidth": 2
          },
          "yaxis": {
           "automargin": true,
           "gridcolor": "white",
           "linecolor": "white",
           "ticks": "",
           "title": {
            "standoff": 15
           },
           "zerolinecolor": "white",
           "zerolinewidth": 2
          }
         }
        },
        "title": {
         "text": "Speed-score trade-off of tree-based ensembles",
         "x": 0.5
        },
        "xaxis": {
         "anchor": "y",
         "domain": [
          0,
          0.45
         ],
         "title": {
          "text": "Train time (s) - lower is better"
         }
        },
        "xaxis2": {
         "anchor": "y2",
         "domain": [
          0.55,
          1
         ],
         "title": {
          "text": "Predict time (s) - lower is better"
         }
        },
        "yaxis": {
         "anchor": "x",
         "domain": [
          0,
          1
         ],
         "title": {
          "text": "Test R2 score - higher is better"
         }
        },
        "yaxis2": {
         "anchor": "x2",
         "domain": [
          0,
          1
         ],
         "matches": "y",
         "showticklabels": false
        }
       }
      }
     },
     "metadata": {},
     "output_type": "display_data"
    }
   ],
   "source": [
    "fig = make_subplots(\n",
    "    rows=1,\n",
    "    cols=2,\n",
    "    shared_yaxes=True,\n",
    "    subplot_titles=[\"Train time vs score\", \"Predict time vs score\"],\n",
    ")\n",
    "model_names = [result[\"model\"] for result in results]\n",
    "colors_list = colors.qualitative.Plotly * (\n",
    "    len(model_names) // len(colors.qualitative.Plotly) + 1\n",
    ")\n",
    "\n",
    "for idx, result in enumerate(results):\n",
    "    cv_results = result[\"cv_results\"].round(3)\n",
    "    model_name = result[\"model\"]\n",
    "    param_name = list(param_grids[model_name].keys())[0]\n",
    "    cv_results[param_name] = cv_results[\"param_\" + param_name]\n",
    "    cv_results[\"model\"] = model_name\n",
    "\n",
    "    scatter_fig = px.scatter(\n",
    "        cv_results,\n",
    "        x=\"mean_fit_time\",\n",
    "        y=\"mean_test_score\",\n",
    "        error_x=\"std_fit_time\",\n",
    "        error_y=\"std_test_score\",\n",
    "        hover_data=param_name,\n",
    "        color=\"model\",\n",
    "    )\n",
    "    line_fig = px.line(\n",
    "        cv_results,\n",
    "        x=\"mean_fit_time\",\n",
    "        y=\"mean_test_score\",\n",
    "    )\n",
    "\n",
    "    scatter_trace = scatter_fig[\"data\"][0]\n",
    "    line_trace = line_fig[\"data\"][0]\n",
    "    scatter_trace.update(marker=dict(color=colors_list[idx]))\n",
    "    line_trace.update(line=dict(color=colors_list[idx]))\n",
    "    fig.add_trace(scatter_trace, row=1, col=1)\n",
    "    fig.add_trace(line_trace, row=1, col=1)\n",
    "\n",
    "    scatter_fig = px.scatter(\n",
    "        cv_results,\n",
    "        x=\"mean_score_time\",\n",
    "        y=\"mean_test_score\",\n",
    "        error_x=\"std_score_time\",\n",
    "        error_y=\"std_test_score\",\n",
    "        hover_data=param_name,\n",
    "    )\n",
    "    line_fig = px.line(\n",
    "        cv_results,\n",
    "        x=\"mean_score_time\",\n",
    "        y=\"mean_test_score\",\n",
    "    )\n",
    "\n",
    "    scatter_trace = scatter_fig[\"data\"][0]\n",
    "    line_trace = line_fig[\"data\"][0]\n",
    "    scatter_trace.update(marker=dict(color=colors_list[idx]))\n",
    "    line_trace.update(line=dict(color=colors_list[idx]))\n",
    "    fig.add_trace(scatter_trace, row=1, col=2)\n",
    "    fig.add_trace(line_trace, row=1, col=2)\n",
    "\n",
    "fig.update_layout(\n",
    "    xaxis=dict(title=\"Train time (s) - lower is better\"),\n",
    "    yaxis=dict(title=\"Test R2 score - higher is better\"),\n",
    "    xaxis2=dict(title=\"Predict time (s) - lower is better\"),\n",
    "    legend=dict(x=0.72, y=0.05, traceorder=\"normal\", borderwidth=1),\n",
    "    title=dict(x=0.5, text=\"Speed-score trade-off of tree-based ensembles\"),\n",
    ")"
   ]
  },
  {
   "cell_type": "code",
   "execution_count": 5,
   "metadata": {},
   "outputs": [
    {
     "name": "stdout",
     "output_type": "stream",
     "text": [
      "Model: Random Forest\n",
      " - Best score: 0.8421851171765585\n",
      " - Best params: {'criterion': 'entropy', 'max_depth': 15, 'max_features': 'sqrt', 'n_estimators': 500, 'n_jobs': 2}\n",
      "\n",
      "Model: Hist Gradient Boosting\n",
      " - Best score: 0.8382403286545704\n",
      " - Best params: {'learning_rate': 0.3, 'max_iter': 1000}\n",
      "\n"
     ]
    }
   ],
   "source": [
    "# print scores of each model\n",
    "for result in results:\n",
    "    print(f\"Model: {result['model']}\")\n",
    "    print(f\" - Best score: {result['best_score']}\")\n",
    "    print(f\" - Best params: {result['best_params']}\\n\")"
   ]
  },
  {
   "cell_type": "code",
   "execution_count": 6,
   "metadata": {},
   "outputs": [
    {
     "name": "stdout",
     "output_type": "stream",
     "text": [
      "Model: Random Forest\n",
      " - Accuracy: 0.8916256157635468\n",
      " - Confusion Matrix:\n",
      "[[50  2  5]\n",
      " [ 2 69  7]\n",
      " [ 1  5 62]]\n",
      "\n",
      " - Classification Report:\n",
      "              precision    recall  f1-score   support\n",
      "\n",
      "   high risk       0.94      0.88      0.91        57\n",
      "    low risk       0.91      0.88      0.90        78\n",
      "    mid risk       0.84      0.91      0.87        68\n",
      "\n",
      "    accuracy                           0.89       203\n",
      "   macro avg       0.90      0.89      0.89       203\n",
      "weighted avg       0.89      0.89      0.89       203\n",
      "\n",
      "\n",
      "Model: Hist Gradient Boosting\n",
      " - Accuracy: 0.8719211822660099\n",
      " - Confusion Matrix:\n",
      "[[50  3  4]\n",
      " [ 2 65 11]\n",
      " [ 1  5 62]]\n",
      "\n",
      " - Classification Report:\n",
      "              precision    recall  f1-score   support\n",
      "\n",
      "   high risk       0.94      0.88      0.91        57\n",
      "    low risk       0.89      0.83      0.86        78\n",
      "    mid risk       0.81      0.91      0.86        68\n",
      "\n",
      "    accuracy                           0.87       203\n",
      "   macro avg       0.88      0.87      0.88       203\n",
      "weighted avg       0.88      0.87      0.87       203\n",
      "\n",
      "\n"
     ]
    }
   ],
   "source": [
    "for result in results:\n",
    "    model_name = result['model']\n",
    "    \n",
    "    if model_name == 'Random Forest':\n",
    "        model = RandomForestClassifier(**result['best_params'])\n",
    "    else:\n",
    "        model = HistGradientBoostingClassifier(**result['best_params'])\n",
    "    \n",
    "    # Fit the model on the training set\n",
    "    model.fit(X_train, y_train)\n",
    "    \n",
    "    # Predict on the test set\n",
    "    y_pred = model.predict(X_test)\n",
    "    \n",
    "    # Calculate metrics\n",
    "    accuracy = accuracy_score(y_test, y_pred)\n",
    "    conf_matrix = confusion_matrix(y_test, y_pred)\n",
    "    report = classification_report(y_test, y_pred)\n",
    "    \n",
    "    # Output metrics\n",
    "    print(f\"Model: {model_name}\")\n",
    "    print(f\" - Accuracy: {accuracy}\")\n",
    "    print(f\" - Confusion Matrix:\\n{conf_matrix}\\n\")\n",
    "    print(f\" - Classification Report:\\n{report}\\n\")\n",
    "    \n",
    "    # Save\n",
    "    joblib.dump(model, f\"{model_name}.joblib\")"
   ]
  }
 ],
 "metadata": {
  "kernelspec": {
   "display_name": "lovelace",
   "language": "python",
   "name": "python3"
  },
  "language_info": {
   "codemirror_mode": {
    "name": "ipython",
    "version": 3
   },
   "file_extension": ".py",
   "mimetype": "text/x-python",
   "name": "python",
   "nbconvert_exporter": "python",
   "pygments_lexer": "ipython3",
   "version": "3.9.19"
  }
 },
 "nbformat": 4,
 "nbformat_minor": 2
}
